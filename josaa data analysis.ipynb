{
 "cells": [
  {
   "cell_type": "code",
   "execution_count": 2,
   "id": "345fe359",
   "metadata": {},
   "outputs": [],
   "source": [
    "import numpy as np\n",
    "import pandas as pd\n"
   ]
  },
  {
   "cell_type": "code",
   "execution_count": 3,
   "id": "13ecd157",
   "metadata": {},
   "outputs": [],
   "source": [
    "file_names=['2016.csv','2017.csv','2018.csv','2019.csv','2020.csv','2021.csv','2022.csv']\n",
    "data_csv=pd.concat([pd.read_csv(f) for f in file_names])"
   ]
  },
  {
   "cell_type": "code",
   "execution_count": 4,
   "id": "f303b65f",
   "metadata": {},
   "outputs": [],
   "source": [
    "data_csv.to_csv(\"data_csv.csv\",index=False)"
   ]
  },
  {
   "cell_type": "code",
   "execution_count": 5,
   "id": "942cd0ed",
   "metadata": {},
   "outputs": [
    {
     "name": "stderr",
     "output_type": "stream",
     "text": [
      "C:\\Users\\Hp\\anaconda3\\anaconda\\lib\\site-packages\\IPython\\core\\interactiveshell.py:3505: DtypeWarning: Columns (5,6) have mixed types.Specify dtype option on import or set low_memory=False.\n",
      "  exec(code_obj, self.user_global_ns, self.user_ns)\n"
     ]
    }
   ],
   "source": [
    "df=pd.read_csv('data_csv.csv')"
   ]
  },
  {
   "cell_type": "code",
   "execution_count": 6,
   "id": "991adeeb",
   "metadata": {},
   "outputs": [
    {
     "data": {
      "text/html": [
       "<div>\n",
       "<style scoped>\n",
       "    .dataframe tbody tr th:only-of-type {\n",
       "        vertical-align: middle;\n",
       "    }\n",
       "\n",
       "    .dataframe tbody tr th {\n",
       "        vertical-align: top;\n",
       "    }\n",
       "\n",
       "    .dataframe thead th {\n",
       "        text-align: right;\n",
       "    }\n",
       "</style>\n",
       "<table border=\"1\" class=\"dataframe\">\n",
       "  <thead>\n",
       "    <tr style=\"text-align: right;\">\n",
       "      <th></th>\n",
       "      <th>Institute</th>\n",
       "      <th>Academic Program Name</th>\n",
       "      <th>Quota</th>\n",
       "      <th>Seat Type</th>\n",
       "      <th>Gender</th>\n",
       "      <th>Opening Rank</th>\n",
       "      <th>Closing Rank</th>\n",
       "      <th>Year</th>\n",
       "      <th>Round</th>\n",
       "    </tr>\n",
       "  </thead>\n",
       "  <tbody>\n",
       "    <tr>\n",
       "      <th>0</th>\n",
       "      <td>Indian Institute of Technology Bhubaneswar</td>\n",
       "      <td>Civil Engineering (4 Years, Bachelor of Techno...</td>\n",
       "      <td>AI</td>\n",
       "      <td>OPEN</td>\n",
       "      <td>NaN</td>\n",
       "      <td>3533.0</td>\n",
       "      <td>5947.0</td>\n",
       "      <td>2016</td>\n",
       "      <td>1</td>\n",
       "    </tr>\n",
       "    <tr>\n",
       "      <th>1</th>\n",
       "      <td>Indian Institute of Technology Bhubaneswar</td>\n",
       "      <td>Civil Engineering (4 Years, Bachelor of Techno...</td>\n",
       "      <td>AI</td>\n",
       "      <td>OBC-NCL</td>\n",
       "      <td>NaN</td>\n",
       "      <td>1829.0</td>\n",
       "      <td>2213.0</td>\n",
       "      <td>2016</td>\n",
       "      <td>1</td>\n",
       "    </tr>\n",
       "    <tr>\n",
       "      <th>2</th>\n",
       "      <td>Indian Institute of Technology Bhubaneswar</td>\n",
       "      <td>Civil Engineering (4 Years, Bachelor of Techno...</td>\n",
       "      <td>AI</td>\n",
       "      <td>SC</td>\n",
       "      <td>NaN</td>\n",
       "      <td>663.0</td>\n",
       "      <td>1023.0</td>\n",
       "      <td>2016</td>\n",
       "      <td>1</td>\n",
       "    </tr>\n",
       "    <tr>\n",
       "      <th>3</th>\n",
       "      <td>Indian Institute of Technology Bhubaneswar</td>\n",
       "      <td>Civil Engineering (4 Years, Bachelor of Techno...</td>\n",
       "      <td>AI</td>\n",
       "      <td>ST</td>\n",
       "      <td>NaN</td>\n",
       "      <td>331.0</td>\n",
       "      <td>357.0</td>\n",
       "      <td>2016</td>\n",
       "      <td>1</td>\n",
       "    </tr>\n",
       "    <tr>\n",
       "      <th>4</th>\n",
       "      <td>Indian Institute of Technology Bhubaneswar</td>\n",
       "      <td>Civil Engineering and M. Tech. in Structural E...</td>\n",
       "      <td>AI</td>\n",
       "      <td>OPEN</td>\n",
       "      <td>NaN</td>\n",
       "      <td>5408.0</td>\n",
       "      <td>6561.0</td>\n",
       "      <td>2016</td>\n",
       "      <td>1</td>\n",
       "    </tr>\n",
       "  </tbody>\n",
       "</table>\n",
       "</div>"
      ],
      "text/plain": [
       "                                    Institute  \\\n",
       "0  Indian Institute of Technology Bhubaneswar   \n",
       "1  Indian Institute of Technology Bhubaneswar   \n",
       "2  Indian Institute of Technology Bhubaneswar   \n",
       "3  Indian Institute of Technology Bhubaneswar   \n",
       "4  Indian Institute of Technology Bhubaneswar   \n",
       "\n",
       "                               Academic Program Name Quota Seat Type Gender  \\\n",
       "0  Civil Engineering (4 Years, Bachelor of Techno...    AI      OPEN    NaN   \n",
       "1  Civil Engineering (4 Years, Bachelor of Techno...    AI   OBC-NCL    NaN   \n",
       "2  Civil Engineering (4 Years, Bachelor of Techno...    AI        SC    NaN   \n",
       "3  Civil Engineering (4 Years, Bachelor of Techno...    AI        ST    NaN   \n",
       "4  Civil Engineering and M. Tech. in Structural E...    AI      OPEN    NaN   \n",
       "\n",
       "  Opening Rank Closing Rank  Year  Round  \n",
       "0       3533.0       5947.0  2016      1  \n",
       "1       1829.0       2213.0  2016      1  \n",
       "2        663.0       1023.0  2016      1  \n",
       "3        331.0        357.0  2016      1  \n",
       "4       5408.0       6561.0  2016      1  "
      ]
     },
     "execution_count": 6,
     "metadata": {},
     "output_type": "execute_result"
    }
   ],
   "source": [
    "df.head()"
   ]
  },
  {
   "cell_type": "code",
   "execution_count": 7,
   "id": "54e40d9f",
   "metadata": {},
   "outputs": [],
   "source": [
    "df['Institute']=df['Institute'].str.replace('Indian Institute of Technology','IIT')"
   ]
  },
  {
   "cell_type": "code",
   "execution_count": 8,
   "id": "12f7707f",
   "metadata": {},
   "outputs": [],
   "source": [
    "df['Institute']=df['Institute'].str.replace('National Institute of Technology','NIT')"
   ]
  },
  {
   "cell_type": "code",
   "execution_count": 9,
   "id": "13d18200",
   "metadata": {},
   "outputs": [
    {
     "name": "stderr",
     "output_type": "stream",
     "text": [
      "C:\\Users\\Hp\\AppData\\Local\\Temp\\ipykernel_20088\\330202462.py:1: FutureWarning: The default value of regex will change from True to False in a future version.\n",
      "  df['Institute']=df['Institute'].str.replace('(IIIT)','')\n"
     ]
    }
   ],
   "source": [
    "df['Institute']=df['Institute'].str.replace('(IIIT)','')"
   ]
  },
  {
   "cell_type": "code",
   "execution_count": 10,
   "id": "4424d175",
   "metadata": {},
   "outputs": [],
   "source": [
    "df['Institute']=df['Institute'].str.replace('Indian Institute of Information Technology','IIIT')"
   ]
  },
  {
   "cell_type": "code",
   "execution_count": 11,
   "id": "fe96436f",
   "metadata": {},
   "outputs": [
    {
     "data": {
      "text/html": [
       "<div>\n",
       "<style scoped>\n",
       "    .dataframe tbody tr th:only-of-type {\n",
       "        vertical-align: middle;\n",
       "    }\n",
       "\n",
       "    .dataframe tbody tr th {\n",
       "        vertical-align: top;\n",
       "    }\n",
       "\n",
       "    .dataframe thead th {\n",
       "        text-align: right;\n",
       "    }\n",
       "</style>\n",
       "<table border=\"1\" class=\"dataframe\">\n",
       "  <thead>\n",
       "    <tr style=\"text-align: right;\">\n",
       "      <th></th>\n",
       "      <th>Institute</th>\n",
       "      <th>Academic Program Name</th>\n",
       "      <th>Quota</th>\n",
       "      <th>Seat Type</th>\n",
       "      <th>Gender</th>\n",
       "      <th>Opening Rank</th>\n",
       "      <th>Closing Rank</th>\n",
       "      <th>Year</th>\n",
       "      <th>Round</th>\n",
       "    </tr>\n",
       "  </thead>\n",
       "  <tbody>\n",
       "    <tr>\n",
       "      <th>0</th>\n",
       "      <td>IIT Bhubaneswar</td>\n",
       "      <td>Civil Engineering (4 Years, Bachelor of Techno...</td>\n",
       "      <td>AI</td>\n",
       "      <td>OPEN</td>\n",
       "      <td>NaN</td>\n",
       "      <td>3533.0</td>\n",
       "      <td>5947.0</td>\n",
       "      <td>2016</td>\n",
       "      <td>1</td>\n",
       "    </tr>\n",
       "    <tr>\n",
       "      <th>1</th>\n",
       "      <td>IIT Bhubaneswar</td>\n",
       "      <td>Civil Engineering (4 Years, Bachelor of Techno...</td>\n",
       "      <td>AI</td>\n",
       "      <td>OBC-NCL</td>\n",
       "      <td>NaN</td>\n",
       "      <td>1829.0</td>\n",
       "      <td>2213.0</td>\n",
       "      <td>2016</td>\n",
       "      <td>1</td>\n",
       "    </tr>\n",
       "    <tr>\n",
       "      <th>2</th>\n",
       "      <td>IIT Bhubaneswar</td>\n",
       "      <td>Civil Engineering (4 Years, Bachelor of Techno...</td>\n",
       "      <td>AI</td>\n",
       "      <td>SC</td>\n",
       "      <td>NaN</td>\n",
       "      <td>663.0</td>\n",
       "      <td>1023.0</td>\n",
       "      <td>2016</td>\n",
       "      <td>1</td>\n",
       "    </tr>\n",
       "    <tr>\n",
       "      <th>3</th>\n",
       "      <td>IIT Bhubaneswar</td>\n",
       "      <td>Civil Engineering (4 Years, Bachelor of Techno...</td>\n",
       "      <td>AI</td>\n",
       "      <td>ST</td>\n",
       "      <td>NaN</td>\n",
       "      <td>331.0</td>\n",
       "      <td>357.0</td>\n",
       "      <td>2016</td>\n",
       "      <td>1</td>\n",
       "    </tr>\n",
       "    <tr>\n",
       "      <th>4</th>\n",
       "      <td>IIT Bhubaneswar</td>\n",
       "      <td>Civil Engineering and M. Tech. in Structural E...</td>\n",
       "      <td>AI</td>\n",
       "      <td>OPEN</td>\n",
       "      <td>NaN</td>\n",
       "      <td>5408.0</td>\n",
       "      <td>6561.0</td>\n",
       "      <td>2016</td>\n",
       "      <td>1</td>\n",
       "    </tr>\n",
       "  </tbody>\n",
       "</table>\n",
       "</div>"
      ],
      "text/plain": [
       "         Institute                              Academic Program Name Quota  \\\n",
       "0  IIT Bhubaneswar  Civil Engineering (4 Years, Bachelor of Techno...    AI   \n",
       "1  IIT Bhubaneswar  Civil Engineering (4 Years, Bachelor of Techno...    AI   \n",
       "2  IIT Bhubaneswar  Civil Engineering (4 Years, Bachelor of Techno...    AI   \n",
       "3  IIT Bhubaneswar  Civil Engineering (4 Years, Bachelor of Techno...    AI   \n",
       "4  IIT Bhubaneswar  Civil Engineering and M. Tech. in Structural E...    AI   \n",
       "\n",
       "  Seat Type Gender Opening Rank Closing Rank  Year  Round  \n",
       "0      OPEN    NaN       3533.0       5947.0  2016      1  \n",
       "1   OBC-NCL    NaN       1829.0       2213.0  2016      1  \n",
       "2        SC    NaN        663.0       1023.0  2016      1  \n",
       "3        ST    NaN        331.0        357.0  2016      1  \n",
       "4      OPEN    NaN       5408.0       6561.0  2016      1  "
      ]
     },
     "execution_count": 11,
     "metadata": {},
     "output_type": "execute_result"
    }
   ],
   "source": [
    "df.head()"
   ]
  },
  {
   "cell_type": "code",
   "execution_count": 12,
   "id": "50aad9df",
   "metadata": {},
   "outputs": [
    {
     "data": {
      "text/plain": [
       "array(['AI', 'HS', 'OS', 'AP', 'GO', 'JK', 'LA', nan], dtype=object)"
      ]
     },
     "execution_count": 12,
     "metadata": {},
     "output_type": "execute_result"
    }
   ],
   "source": [
    "df['Quota'].unique()"
   ]
  },
  {
   "cell_type": "code",
   "execution_count": 13,
   "id": "e86463dd",
   "metadata": {},
   "outputs": [],
   "source": [
    "df=df[df['Quota'].notna()]"
   ]
  },
  {
   "cell_type": "code",
   "execution_count": 14,
   "id": "c19d6b53",
   "metadata": {},
   "outputs": [],
   "source": [
    "df=df[df['Seat Type'].notna()]"
   ]
  },
  {
   "cell_type": "code",
   "execution_count": 15,
   "id": "d46f5a60",
   "metadata": {},
   "outputs": [],
   "source": [
    "df.drop(['Gender'],axis=1,inplace=True)"
   ]
  },
  {
   "cell_type": "code",
   "execution_count": 16,
   "id": "066382c9",
   "metadata": {},
   "outputs": [],
   "source": [
    "df=df[df['Opening Rank'].notna()]"
   ]
  },
  {
   "cell_type": "code",
   "execution_count": 17,
   "id": "1171868c",
   "metadata": {},
   "outputs": [],
   "source": [
    "clone=df.copy()"
   ]
  },
  {
   "cell_type": "code",
   "execution_count": 18,
   "id": "6688327e",
   "metadata": {},
   "outputs": [],
   "source": [
    "or_list=[c for c in clone['Opening Rank'] if type(c)==str and c[-1]=='P']"
   ]
  },
  {
   "cell_type": "code",
   "execution_count": 19,
   "id": "6380d539",
   "metadata": {},
   "outputs": [],
   "source": [
    "index=[]\n",
    "for c in or_list:\n",
    "    i=df[df['Opening Rank']==c].index\n",
    "    for j in i:\n",
    "        index.append(j)"
   ]
  },
  {
   "cell_type": "code",
   "execution_count": 20,
   "id": "083e3e47",
   "metadata": {},
   "outputs": [],
   "source": [
    "df=df.drop(index)"
   ]
  },
  {
   "cell_type": "code",
   "execution_count": 21,
   "id": "b3ae134c",
   "metadata": {},
   "outputs": [],
   "source": [
    "df['Opening Rank']=df['Opening Rank'].astype(float)"
   ]
  },
  {
   "cell_type": "code",
   "execution_count": 22,
   "id": "9828eb46",
   "metadata": {},
   "outputs": [],
   "source": [
    "closing_list=[c for c in clone['Closing Rank'] if type(c)==str and c[-1]=='P']"
   ]
  },
  {
   "cell_type": "code",
   "execution_count": 23,
   "id": "7343b704",
   "metadata": {},
   "outputs": [],
   "source": [
    "index_close=[]\n",
    "for c in closing_list:\n",
    "    i=df[df['Closing Rank']==c].index\n",
    "    for j in i:\n",
    "        index_close.append(j)"
   ]
  },
  {
   "cell_type": "code",
   "execution_count": 24,
   "id": "9e53887a",
   "metadata": {},
   "outputs": [],
   "source": [
    "df=df.drop(index_close)"
   ]
  },
  {
   "cell_type": "code",
   "execution_count": 25,
   "id": "150b7d22",
   "metadata": {},
   "outputs": [],
   "source": [
    "df['Closing Rank']=df['Closing Rank'].astype(float)"
   ]
  },
  {
   "cell_type": "code",
   "execution_count": 26,
   "id": "1350f00f",
   "metadata": {},
   "outputs": [],
   "source": [
    "clone=df.copy()"
   ]
  },
  {
   "cell_type": "code",
   "execution_count": 32,
   "id": "6e0a6a56",
   "metadata": {},
   "outputs": [
    {
     "data": {
      "text/html": [
       "<div>\n",
       "<style scoped>\n",
       "    .dataframe tbody tr th:only-of-type {\n",
       "        vertical-align: middle;\n",
       "    }\n",
       "\n",
       "    .dataframe tbody tr th {\n",
       "        vertical-align: top;\n",
       "    }\n",
       "\n",
       "    .dataframe thead th {\n",
       "        text-align: right;\n",
       "    }\n",
       "</style>\n",
       "<table border=\"1\" class=\"dataframe\">\n",
       "  <thead>\n",
       "    <tr style=\"text-align: right;\">\n",
       "      <th></th>\n",
       "      <th>Institute</th>\n",
       "      <th>Academic Program Name</th>\n",
       "      <th>Quota</th>\n",
       "      <th>Seat Type</th>\n",
       "      <th>Opening Rank</th>\n",
       "      <th>Closing Rank</th>\n",
       "      <th>Year</th>\n",
       "      <th>Round</th>\n",
       "    </tr>\n",
       "  </thead>\n",
       "  <tbody>\n",
       "    <tr>\n",
       "      <th>0</th>\n",
       "      <td>IIT Bhubaneswar</td>\n",
       "      <td>[Civil, Engineering, 4, Years, Bachelor, of, T...</td>\n",
       "      <td>AI</td>\n",
       "      <td>OPEN</td>\n",
       "      <td>3533.0</td>\n",
       "      <td>5947.0</td>\n",
       "      <td>2016</td>\n",
       "      <td>1</td>\n",
       "    </tr>\n",
       "    <tr>\n",
       "      <th>1</th>\n",
       "      <td>IIT Bhubaneswar</td>\n",
       "      <td>[Civil, Engineering, 4, Years, Bachelor, of, T...</td>\n",
       "      <td>AI</td>\n",
       "      <td>OBC-NCL</td>\n",
       "      <td>1829.0</td>\n",
       "      <td>2213.0</td>\n",
       "      <td>2016</td>\n",
       "      <td>1</td>\n",
       "    </tr>\n",
       "    <tr>\n",
       "      <th>2</th>\n",
       "      <td>IIT Bhubaneswar</td>\n",
       "      <td>[Civil, Engineering, 4, Years, Bachelor, of, T...</td>\n",
       "      <td>AI</td>\n",
       "      <td>SC</td>\n",
       "      <td>663.0</td>\n",
       "      <td>1023.0</td>\n",
       "      <td>2016</td>\n",
       "      <td>1</td>\n",
       "    </tr>\n",
       "    <tr>\n",
       "      <th>3</th>\n",
       "      <td>IIT Bhubaneswar</td>\n",
       "      <td>[Civil, Engineering, 4, Years, Bachelor, of, T...</td>\n",
       "      <td>AI</td>\n",
       "      <td>ST</td>\n",
       "      <td>331.0</td>\n",
       "      <td>357.0</td>\n",
       "      <td>2016</td>\n",
       "      <td>1</td>\n",
       "    </tr>\n",
       "    <tr>\n",
       "      <th>4</th>\n",
       "      <td>IIT Bhubaneswar</td>\n",
       "      <td>[Civil, Engineering, and, M., Tech., in, Struc...</td>\n",
       "      <td>AI</td>\n",
       "      <td>OPEN</td>\n",
       "      <td>5408.0</td>\n",
       "      <td>6561.0</td>\n",
       "      <td>2016</td>\n",
       "      <td>1</td>\n",
       "    </tr>\n",
       "  </tbody>\n",
       "</table>\n",
       "</div>"
      ],
      "text/plain": [
       "         Institute                              Academic Program Name Quota  \\\n",
       "0  IIT Bhubaneswar  [Civil, Engineering, 4, Years, Bachelor, of, T...    AI   \n",
       "1  IIT Bhubaneswar  [Civil, Engineering, 4, Years, Bachelor, of, T...    AI   \n",
       "2  IIT Bhubaneswar  [Civil, Engineering, 4, Years, Bachelor, of, T...    AI   \n",
       "3  IIT Bhubaneswar  [Civil, Engineering, 4, Years, Bachelor, of, T...    AI   \n",
       "4  IIT Bhubaneswar  [Civil, Engineering, and, M., Tech., in, Struc...    AI   \n",
       "\n",
       "  Seat Type  Opening Rank  Closing Rank  Year  Round  \n",
       "0      OPEN        3533.0        5947.0  2016      1  \n",
       "1   OBC-NCL        1829.0        2213.0  2016      1  \n",
       "2        SC         663.0        1023.0  2016      1  \n",
       "3        ST         331.0         357.0  2016      1  \n",
       "4      OPEN        5408.0        6561.0  2016      1  "
      ]
     },
     "execution_count": 32,
     "metadata": {},
     "output_type": "execute_result"
    }
   ],
   "source": [
    "clone.head()"
   ]
  },
  {
   "cell_type": "code",
   "execution_count": 28,
   "id": "ff523ab5",
   "metadata": {},
   "outputs": [
    {
     "name": "stderr",
     "output_type": "stream",
     "text": [
      "C:\\Users\\Hp\\AppData\\Local\\Temp\\ipykernel_20088\\2883316938.py:1: FutureWarning: The default value of regex will change from True to False in a future version. In addition, single character regular expressions will *not* be treated as literal strings when regex=True.\n",
      "  clone['Academic Program Name']=clone['Academic Program Name'].str.replace('(','')\n"
     ]
    }
   ],
   "source": [
    "clone['Academic Program Name']=clone['Academic Program Name'].str.replace('(','')"
   ]
  },
  {
   "cell_type": "code",
   "execution_count": 29,
   "id": "487c39d7",
   "metadata": {},
   "outputs": [
    {
     "name": "stderr",
     "output_type": "stream",
     "text": [
      "C:\\Users\\Hp\\AppData\\Local\\Temp\\ipykernel_20088\\3934482667.py:1: FutureWarning: The default value of regex will change from True to False in a future version. In addition, single character regular expressions will *not* be treated as literal strings when regex=True.\n",
      "  clone['Academic Program Name']=clone['Academic Program Name'].str.replace(')','')\n"
     ]
    }
   ],
   "source": [
    "clone['Academic Program Name']=clone['Academic Program Name'].str.replace(')','')"
   ]
  },
  {
   "cell_type": "code",
   "execution_count": 30,
   "id": "1e69aa5d",
   "metadata": {},
   "outputs": [],
   "source": [
    "clone['Academic Program Name']=clone['Academic Program Name'].str.replace(',','')"
   ]
  },
  {
   "cell_type": "code",
   "execution_count": 31,
   "id": "c03f9961",
   "metadata": {},
   "outputs": [],
   "source": [
    "clone['Academic Program Name']=clone['Academic Program Name'].str.split()"
   ]
  },
  {
   "cell_type": "code",
   "execution_count": 33,
   "id": "5020aa3a",
   "metadata": {},
   "outputs": [],
   "source": [
    "duration=[]\n",
    "degree=[]\n",
    "for i in clone['Academic Program Name']:\n",
    "    if '4' in i:\n",
    "        duration.append(4)\n",
    "        degree.append('B.Tech Degree')\n",
    "    elif '5' in i:\n",
    "        duration.append(5)\n",
    "        degree.append('Dual Degree')"
   ]
  },
  {
   "cell_type": "code",
   "execution_count": 34,
   "id": "6ba9ab57",
   "metadata": {},
   "outputs": [],
   "source": [
    "clone['Duration']=duration"
   ]
  },
  {
   "cell_type": "code",
   "execution_count": 35,
   "id": "41d19d8d",
   "metadata": {},
   "outputs": [],
   "source": [
    "clone['Degree']=degree"
   ]
  },
  {
   "cell_type": "code",
   "execution_count": 36,
   "id": "cc66db54",
   "metadata": {},
   "outputs": [],
   "source": [
    "lst=[]\n",
    "j=0"
   ]
  },
  {
   "cell_type": "code",
   "execution_count": 37,
   "id": "3be15f2c",
   "metadata": {},
   "outputs": [],
   "source": [
    "for i in clone['Academic Program Name']:\n",
    "    if 'Engineering' in i:\n",
    "        a=i.index('Engineering')\n",
    "        lst.append(' '.join(i[:a+1]))\n",
    "    else:\n",
    "        if '4' in i:\n",
    "            a=i.index('4')\n",
    "            lst.append(' '.join(i[:a]))\n",
    "        elif '5' in i:\n",
    "            a=i.index('5')\n",
    "            lst.append(' '.join(i[:a]))\n",
    "    j+=1"
   ]
  },
  {
   "cell_type": "code",
   "execution_count": 38,
   "id": "6123208d",
   "metadata": {},
   "outputs": [],
   "source": [
    "c=clone.copy()"
   ]
  },
  {
   "cell_type": "code",
   "execution_count": 39,
   "id": "bfc445cf",
   "metadata": {},
   "outputs": [
    {
     "data": {
      "text/html": [
       "<div>\n",
       "<style scoped>\n",
       "    .dataframe tbody tr th:only-of-type {\n",
       "        vertical-align: middle;\n",
       "    }\n",
       "\n",
       "    .dataframe tbody tr th {\n",
       "        vertical-align: top;\n",
       "    }\n",
       "\n",
       "    .dataframe thead th {\n",
       "        text-align: right;\n",
       "    }\n",
       "</style>\n",
       "<table border=\"1\" class=\"dataframe\">\n",
       "  <thead>\n",
       "    <tr style=\"text-align: right;\">\n",
       "      <th></th>\n",
       "      <th>Institute</th>\n",
       "      <th>Academic Program Name</th>\n",
       "      <th>Quota</th>\n",
       "      <th>Seat Type</th>\n",
       "      <th>Opening Rank</th>\n",
       "      <th>Closing Rank</th>\n",
       "      <th>Year</th>\n",
       "      <th>Round</th>\n",
       "      <th>Duration</th>\n",
       "      <th>Degree</th>\n",
       "    </tr>\n",
       "  </thead>\n",
       "  <tbody>\n",
       "    <tr>\n",
       "      <th>0</th>\n",
       "      <td>IIT Bhubaneswar</td>\n",
       "      <td>[Civil, Engineering, 4, Years, Bachelor, of, T...</td>\n",
       "      <td>AI</td>\n",
       "      <td>OPEN</td>\n",
       "      <td>3533.0</td>\n",
       "      <td>5947.0</td>\n",
       "      <td>2016</td>\n",
       "      <td>1</td>\n",
       "      <td>4</td>\n",
       "      <td>B.Tech Degree</td>\n",
       "    </tr>\n",
       "    <tr>\n",
       "      <th>1</th>\n",
       "      <td>IIT Bhubaneswar</td>\n",
       "      <td>[Civil, Engineering, 4, Years, Bachelor, of, T...</td>\n",
       "      <td>AI</td>\n",
       "      <td>OBC-NCL</td>\n",
       "      <td>1829.0</td>\n",
       "      <td>2213.0</td>\n",
       "      <td>2016</td>\n",
       "      <td>1</td>\n",
       "      <td>4</td>\n",
       "      <td>B.Tech Degree</td>\n",
       "    </tr>\n",
       "    <tr>\n",
       "      <th>2</th>\n",
       "      <td>IIT Bhubaneswar</td>\n",
       "      <td>[Civil, Engineering, 4, Years, Bachelor, of, T...</td>\n",
       "      <td>AI</td>\n",
       "      <td>SC</td>\n",
       "      <td>663.0</td>\n",
       "      <td>1023.0</td>\n",
       "      <td>2016</td>\n",
       "      <td>1</td>\n",
       "      <td>4</td>\n",
       "      <td>B.Tech Degree</td>\n",
       "    </tr>\n",
       "    <tr>\n",
       "      <th>3</th>\n",
       "      <td>IIT Bhubaneswar</td>\n",
       "      <td>[Civil, Engineering, 4, Years, Bachelor, of, T...</td>\n",
       "      <td>AI</td>\n",
       "      <td>ST</td>\n",
       "      <td>331.0</td>\n",
       "      <td>357.0</td>\n",
       "      <td>2016</td>\n",
       "      <td>1</td>\n",
       "      <td>4</td>\n",
       "      <td>B.Tech Degree</td>\n",
       "    </tr>\n",
       "    <tr>\n",
       "      <th>4</th>\n",
       "      <td>IIT Bhubaneswar</td>\n",
       "      <td>[Civil, Engineering, and, M., Tech., in, Struc...</td>\n",
       "      <td>AI</td>\n",
       "      <td>OPEN</td>\n",
       "      <td>5408.0</td>\n",
       "      <td>6561.0</td>\n",
       "      <td>2016</td>\n",
       "      <td>1</td>\n",
       "      <td>5</td>\n",
       "      <td>Dual Degree</td>\n",
       "    </tr>\n",
       "  </tbody>\n",
       "</table>\n",
       "</div>"
      ],
      "text/plain": [
       "         Institute                              Academic Program Name Quota  \\\n",
       "0  IIT Bhubaneswar  [Civil, Engineering, 4, Years, Bachelor, of, T...    AI   \n",
       "1  IIT Bhubaneswar  [Civil, Engineering, 4, Years, Bachelor, of, T...    AI   \n",
       "2  IIT Bhubaneswar  [Civil, Engineering, 4, Years, Bachelor, of, T...    AI   \n",
       "3  IIT Bhubaneswar  [Civil, Engineering, 4, Years, Bachelor, of, T...    AI   \n",
       "4  IIT Bhubaneswar  [Civil, Engineering, and, M., Tech., in, Struc...    AI   \n",
       "\n",
       "  Seat Type  Opening Rank  Closing Rank  Year  Round  Duration         Degree  \n",
       "0      OPEN        3533.0        5947.0  2016      1         4  B.Tech Degree  \n",
       "1   OBC-NCL        1829.0        2213.0  2016      1         4  B.Tech Degree  \n",
       "2        SC         663.0        1023.0  2016      1         4  B.Tech Degree  \n",
       "3        ST         331.0         357.0  2016      1         4  B.Tech Degree  \n",
       "4      OPEN        5408.0        6561.0  2016      1         5    Dual Degree  "
      ]
     },
     "execution_count": 39,
     "metadata": {},
     "output_type": "execute_result"
    }
   ],
   "source": [
    "c.head()"
   ]
  },
  {
   "cell_type": "code",
   "execution_count": 40,
   "id": "2259c752",
   "metadata": {},
   "outputs": [],
   "source": [
    "clone['Stream']=lst"
   ]
  },
  {
   "cell_type": "code",
   "execution_count": 41,
   "id": "30ccd600",
   "metadata": {},
   "outputs": [],
   "source": [
    "clone.drop('Academic Program Name',axis=1,inplace=True)"
   ]
  },
  {
   "cell_type": "code",
   "execution_count": 42,
   "id": "5cb29884",
   "metadata": {},
   "outputs": [],
   "source": [
    "clone.to_csv(\"Final.csv\",index=False)"
   ]
  },
  {
   "cell_type": "code",
   "execution_count": 43,
   "id": "1f576ae3",
   "metadata": {},
   "outputs": [],
   "source": [
    "df1=pd.read_csv(\"final.csv\")"
   ]
  },
  {
   "cell_type": "code",
   "execution_count": 44,
   "id": "500afffd",
   "metadata": {},
   "outputs": [],
   "source": [
    "stream_fav=df1.groupby('Stream').size().reset_index().rename(columns={0:'Total'}).sort_values('Total',ascending=False)"
   ]
  },
  {
   "cell_type": "code",
   "execution_count": 45,
   "id": "09b6172a",
   "metadata": {},
   "outputs": [],
   "source": [
    "dual_btech=df1.groupby(['Institute','Degree']).size().reset_index().rename(columns={0:'Total'}).sort_values('Total',ascending=False)"
   ]
  },
  {
   "cell_type": "code",
   "execution_count": 46,
   "id": "ae34df98",
   "metadata": {},
   "outputs": [],
   "source": [
    "max_closing_rank=df1.groupby(['Institute','Seat Type'])['Closing Rank'].max().reset_index()"
   ]
  },
  {
   "cell_type": "code",
   "execution_count": 47,
   "id": "1d49bd0a",
   "metadata": {},
   "outputs": [],
   "source": [
    "min_closing_rank=df1.groupby(['Institute','Seat Type'])['Closing Rank'].min().reset_index()"
   ]
  },
  {
   "cell_type": "code",
   "execution_count": 48,
   "id": "71661c99",
   "metadata": {},
   "outputs": [],
   "source": [
    "max_closing_rank_year=df1.groupby(['Institute','Year','Stream','Seat Type'])['Closing Rank'].max().reset_index()"
   ]
  },
  {
   "cell_type": "code",
   "execution_count": 49,
   "id": "85a6b3f5",
   "metadata": {},
   "outputs": [],
   "source": [
    "min_opening_rank_year=df1.groupby(['Institute','Year','Stream','Seat Type'])['Opening Rank'].min().reset_index()"
   ]
  },
  {
   "cell_type": "code",
   "execution_count": 50,
   "id": "945ad7f7",
   "metadata": {},
   "outputs": [],
   "source": [
    "quota_count=df1.groupby('Quota').size().reset_index().rename(columns={0:'Total'})"
   ]
  },
  {
   "cell_type": "code",
   "execution_count": 51,
   "id": "77c77b9b",
   "metadata": {},
   "outputs": [
    {
     "data": {
      "text/html": [
       "<div>\n",
       "<style scoped>\n",
       "    .dataframe tbody tr th:only-of-type {\n",
       "        vertical-align: middle;\n",
       "    }\n",
       "\n",
       "    .dataframe tbody tr th {\n",
       "        vertical-align: top;\n",
       "    }\n",
       "\n",
       "    .dataframe thead th {\n",
       "        text-align: right;\n",
       "    }\n",
       "</style>\n",
       "<table border=\"1\" class=\"dataframe\">\n",
       "  <thead>\n",
       "    <tr style=\"text-align: right;\">\n",
       "      <th></th>\n",
       "      <th>Institute</th>\n",
       "      <th>Quota</th>\n",
       "      <th>Seat Type</th>\n",
       "      <th>Total</th>\n",
       "    </tr>\n",
       "  </thead>\n",
       "  <tbody>\n",
       "    <tr>\n",
       "      <th>0</th>\n",
       "      <td>Assam University, Silchar</td>\n",
       "      <td>AI</td>\n",
       "      <td>EWS</td>\n",
       "      <td>63</td>\n",
       "    </tr>\n",
       "    <tr>\n",
       "      <th>1</th>\n",
       "      <td>Assam University, Silchar</td>\n",
       "      <td>AI</td>\n",
       "      <td>OBC-NCL</td>\n",
       "      <td>207</td>\n",
       "    </tr>\n",
       "    <tr>\n",
       "      <th>2</th>\n",
       "      <td>Assam University, Silchar</td>\n",
       "      <td>AI</td>\n",
       "      <td>OPEN</td>\n",
       "      <td>207</td>\n",
       "    </tr>\n",
       "    <tr>\n",
       "      <th>3</th>\n",
       "      <td>Assam University, Silchar</td>\n",
       "      <td>AI</td>\n",
       "      <td>OPEN (PwD)</td>\n",
       "      <td>61</td>\n",
       "    </tr>\n",
       "    <tr>\n",
       "      <th>4</th>\n",
       "      <td>Assam University, Silchar</td>\n",
       "      <td>AI</td>\n",
       "      <td>SC</td>\n",
       "      <td>186</td>\n",
       "    </tr>\n",
       "    <tr>\n",
       "      <th>...</th>\n",
       "      <td>...</td>\n",
       "      <td>...</td>\n",
       "      <td>...</td>\n",
       "      <td>...</td>\n",
       "    </tr>\n",
       "    <tr>\n",
       "      <th>1334</th>\n",
       "      <td>lndian Institute of Food Processing Technology...</td>\n",
       "      <td>AI</td>\n",
       "      <td>OBC-NCL (PwD)</td>\n",
       "      <td>1</td>\n",
       "    </tr>\n",
       "    <tr>\n",
       "      <th>1335</th>\n",
       "      <td>lndian Institute of Food Processing Technology...</td>\n",
       "      <td>AI</td>\n",
       "      <td>OPEN</td>\n",
       "      <td>9</td>\n",
       "    </tr>\n",
       "    <tr>\n",
       "      <th>1336</th>\n",
       "      <td>lndian Institute of Food Processing Technology...</td>\n",
       "      <td>AI</td>\n",
       "      <td>OPEN (PwD)</td>\n",
       "      <td>9</td>\n",
       "    </tr>\n",
       "    <tr>\n",
       "      <th>1337</th>\n",
       "      <td>lndian Institute of Food Processing Technology...</td>\n",
       "      <td>AI</td>\n",
       "      <td>SC</td>\n",
       "      <td>9</td>\n",
       "    </tr>\n",
       "    <tr>\n",
       "      <th>1338</th>\n",
       "      <td>lndian Institute of Food Processing Technology...</td>\n",
       "      <td>AI</td>\n",
       "      <td>ST</td>\n",
       "      <td>9</td>\n",
       "    </tr>\n",
       "  </tbody>\n",
       "</table>\n",
       "<p>1339 rows × 4 columns</p>\n",
       "</div>"
      ],
      "text/plain": [
       "                                              Institute Quota      Seat Type  \\\n",
       "0                             Assam University, Silchar    AI            EWS   \n",
       "1                             Assam University, Silchar    AI        OBC-NCL   \n",
       "2                             Assam University, Silchar    AI           OPEN   \n",
       "3                             Assam University, Silchar    AI     OPEN (PwD)   \n",
       "4                             Assam University, Silchar    AI             SC   \n",
       "...                                                 ...   ...            ...   \n",
       "1334  lndian Institute of Food Processing Technology...    AI  OBC-NCL (PwD)   \n",
       "1335  lndian Institute of Food Processing Technology...    AI           OPEN   \n",
       "1336  lndian Institute of Food Processing Technology...    AI     OPEN (PwD)   \n",
       "1337  lndian Institute of Food Processing Technology...    AI             SC   \n",
       "1338  lndian Institute of Food Processing Technology...    AI             ST   \n",
       "\n",
       "      Total  \n",
       "0        63  \n",
       "1       207  \n",
       "2       207  \n",
       "3        61  \n",
       "4       186  \n",
       "...     ...  \n",
       "1334      1  \n",
       "1335      9  \n",
       "1336      9  \n",
       "1337      9  \n",
       "1338      9  \n",
       "\n",
       "[1339 rows x 4 columns]"
      ]
     },
     "execution_count": 51,
     "metadata": {},
     "output_type": "execute_result"
    }
   ],
   "source": [
    "df.groupby(['Institute','Quota','Seat Type']).size().reset_index().rename(columns={0:'Total'})"
   ]
  },
  {
   "cell_type": "code",
   "execution_count": 52,
   "id": "0bcdd559",
   "metadata": {},
   "outputs": [],
   "source": [
    "min_opening_rank_round=df1.groupby(['Institute','Year','Stream','Round'])['Opening Rank'].min().reset_index()"
   ]
  },
  {
   "cell_type": "code",
   "execution_count": 53,
   "id": "440d76c5",
   "metadata": {},
   "outputs": [],
   "source": [
    "max_closing_rank_round=df1.groupby(['Institute','Year','Stream','Round'])['Closing Rank'].max().reset_index()"
   ]
  },
  {
   "cell_type": "code",
   "execution_count": null,
   "id": "7ac20e98",
   "metadata": {},
   "outputs": [],
   "source": []
  }
 ],
 "metadata": {
  "kernelspec": {
   "display_name": "Python 3 (ipykernel)",
   "language": "python",
   "name": "python3"
  },
  "language_info": {
   "codemirror_mode": {
    "name": "ipython",
    "version": 3
   },
   "file_extension": ".py",
   "mimetype": "text/x-python",
   "name": "python",
   "nbconvert_exporter": "python",
   "pygments_lexer": "ipython3",
   "version": "3.9.7"
  }
 },
 "nbformat": 4,
 "nbformat_minor": 5
}
